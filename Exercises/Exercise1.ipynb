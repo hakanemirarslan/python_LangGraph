{
 "cells": [
  {
   "cell_type": "code",
   "execution_count": 2,
   "id": "9612007a",
   "metadata": {},
   "outputs": [],
   "source": [
    "from typing import Dict, TypedDict\n",
    "from langgraph.graph import StateGraph"
   ]
  },
  {
   "cell_type": "code",
   "execution_count": 3,
   "id": "e3060d89",
   "metadata": {},
   "outputs": [],
   "source": [
    "class PersonalizedAgentState(TypedDict):\n",
    "    message : str\n",
    "  \n",
    "  #node oluşturduk\n",
    "def motivation_node(state: PersonalizedAgentState) -> PersonalizedAgentState:\n",
    "    \"\"\"\" This node sets the motivation of the agent based on their name. \"\"\"\n",
    "    state['message'] = state[\"message\"] + \", you are doing amazing job learining LangGraph\"\n",
    "    return state"
   ]
  },
  {
   "cell_type": "code",
   "execution_count": 4,
   "id": "d639feca",
   "metadata": {},
   "outputs": [],
   "source": [
    "#graph oluşturduk\n",
    "graph = StateGraph(PersonalizedAgentState)\n",
    "#graph'a node ekleyeceğiz start ve finish node'ları ekleyeceğiz\n",
    "graph.add_node(\"motivation\", motivation_node)\n",
    "graph.set_entry_point(\"motivation\")\n",
    "graph.set_finish_point(\"motivation\")\n",
    "\n",
    "app =graph.compile()"
   ]
  },
  {
   "cell_type": "code",
   "execution_count": 5,
   "id": "4bbb44c3",
   "metadata": {},
   "outputs": [
    {
     "data": {
      "image/png": "[encoded data removed]",
      "text/plain": [
       "<IPython.core.display.Image object>"
      ]
     },
     "metadata": {},
     "output_type": "display_data"
    }
   ],
   "source": [
    "from IPython.display import Image, display #graph'i görselleştirmek için gerekli kütüphaneler\n",
    "#graph'i mermaid formatında görselleştirdik\n",
    "display(Image(app.get_graph().draw_mermaid_png()))"
   ]
  },
  {
   "cell_type": "code",
   "execution_count": null,
   "id": "61cdbde9",
   "metadata": {},
   "outputs": [],
   "source": [
    "result = app.invoke({\"message\": \"Arem\"}) #graph'i çalıştırdık"
   ]
  },
  {
   "cell_type": "code",
   "execution_count": 7,
   "id": "a503e872",
   "metadata": {},
   "outputs": [
    {
     "data": {
      "text/plain": [
       "'Hakan, you are doing amazing job learining LangGraph'"
      ]
     },
     "execution_count": 7,
     "metadata": {},
     "output_type": "execute_result"
    }
   ],
   "source": [
    "result[\"message\"]  # Sonucu döndürdük"
   ]
  }
 ],
 "metadata": {
  "kernelspec": {
   "display_name": "Python 3",
   "language": "python",
   "name": "python3"
  },
  "language_info": {
   "codemirror_mode": {
    "name": "ipython",
    "version": 3
   },
   "file_extension": ".py",
   "mimetype": "text/x-python",
   "name": "python",
   "nbconvert_exporter": "python",
   "pygments_lexer": "ipython3",
   "version": "3.13.3"
  }
 },
 "nbformat": 4,
 "nbformat_minor": 5
}
